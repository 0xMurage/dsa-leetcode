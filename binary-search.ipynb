{
 "cells": [
  {
   "cell_type": "markdown",
   "metadata": {},
   "source": [
    "## 704. Binary Search\n",
    "\n",
    "Given an array of integers `nums` which is sorted in ascending order, and an integer `target`, write a function to search `target` in `nums`. If `target` exists, then return its index. Otherwise, return `-1`.\n",
    "\n",
    "You must write an algorithm with `O(log n)` runtime complexity.\n",
    "\n",
    "\n",
    "**Constraints**:\n",
    "- `1 <= nums.length <= 104`\n",
    "- `-104 < nums[i]`, `target < 104`\n",
    "- All the integers in `nums` are unique.\n",
    "- `nums` is sorted in ascending order."
   ]
  },
  {
   "cell_type": "markdown",
   "metadata": {},
   "source": [
    "### Approach 1\n",
    "- Get the last index of list as `max`\n",
    "- Set `min` as first index i.e. zero\n",
    "- while min is less or equal than max:\n",
    "    - Get middle index `M` of current min and max\n",
    "    - If the value at `M` equals target, return `M`\n",
    "    - If the value at `M` is greater than target, set max as `M-1`\n",
    "    - else set `min` as `M+1`\n",
    "- return `-1`\n",
    "\n",
    "---\n",
    "Time complexity:\n",
    " - best O(n))\n",
    " - worst O(log n)"
   ]
  },
  {
   "cell_type": "code",
   "execution_count": 15,
   "metadata": {},
   "outputs": [
    {
     "name": "stdout",
     "output_type": "stream",
     "text": [
      "CPU times: user 3 µs, sys: 1 µs, total: 4 µs\n",
      "Wall time: 5.72 µs\n"
     ]
    }
   ],
   "source": [
    "%time\n",
    "def search(nums, target):\n",
    "    min = 0\n",
    "    max = len(nums) - 1\n",
    "\n",
    "    while(max>=min):\n",
    "        middle = (max+min)//2\n",
    "\n",
    "        if nums[middle] == target:\n",
    "            return middle\n",
    "        elif nums[middle] > target:\n",
    "            max = middle-1\n",
    "        else:\n",
    "            min = middle+1\n",
    "    return -1\n",
    "\n",
    "assert search([-1,0,3,5,9,12],9) == 4\n",
    "assert search([-1,0,3,5,9,12],2) == -1\n"
   ]
  }
 ],
 "metadata": {
  "interpreter": {
   "hash": "1689b82d5412fa2730f525d7fc479fa1f03a8b16792edff4c42ef5bca5ee2eee"
  },
  "kernelspec": {
   "display_name": "Python 3.8.10 64-bit ('venv': venv)",
   "language": "python",
   "name": "python3"
  },
  "language_info": {
   "codemirror_mode": {
    "name": "ipython",
    "version": 3
   },
   "file_extension": ".py",
   "mimetype": "text/x-python",
   "name": "python",
   "nbconvert_exporter": "python",
   "pygments_lexer": "ipython3",
   "version": "3.8.10"
  },
  "orig_nbformat": 4
 },
 "nbformat": 4,
 "nbformat_minor": 2
}
