{
 "cells": [
  {
   "cell_type": "code",
   "execution_count": 2,
   "metadata": {},
   "outputs": [
    {
     "name": "stdout",
     "output_type": "stream",
     "text": [
      "19 4 8 45 37 7 10 4 3 84 42 "
     ]
    }
   ],
   "source": [
    "\n",
    "class Node:\n",
    "    def __init__(self,value):\n",
    "        self.value = value\n",
    "        self.left = None\n",
    "        self.right = None\n",
    "\n",
    "class Tree:\n",
    "    def __init__(self,value):\n",
    "        self.root = Node(value)\n",
    "\n",
    "    def append_left(self, previous,value):\n",
    "        if previous is None:\n",
    "            print('Cannot add %s to the previous left of none '%value)\n",
    "            return None\n",
    "        else:\n",
    "          previous.left = Node(value)\n",
    "          return previous.left\n",
    "        \n",
    "\n",
    "    def append_right(self,previous,value):\n",
    "        if previous is None:\n",
    "            print('Cannot add %s to the previous right of none'%value)\n",
    "            return None\n",
    "        else:\n",
    "            previous.right = Node(value)\n",
    "            return previous.right\n",
    "\n",
    "def print_tree(tree):\n",
    "    if tree is not None:\n",
    "        print(tree.value,end=' ') #root\n",
    "\n",
    "    if tree.left:\n",
    "        print_tree(tree.left)\n",
    "    if tree.right:\n",
    "        print_tree(tree.right)\n",
    "\n",
    "\n",
    "\"\"\"\n",
    "          19\n",
    "       /     \\\n",
    "      4       10\n",
    "     /   \\    / \\  \n",
    "    8    7  4    3  \n",
    "   / \\          / \\ \n",
    "  45  37       84  42 \n",
    "\"\"\"\n",
    "tree = Tree(19)\n",
    "x = tree.append_left(tree.root,4)\n",
    "y = tree.append_right(tree.root,10)\n",
    "\n",
    "z=tree.append_left(x,8)\n",
    "a=tree.append_right(x,7)\n",
    "\n",
    "b=tree.append_left(y,4)\n",
    "c=tree.append_right(y,3)\n",
    "\n",
    "tree.append_left(z,45)\n",
    "tree.append_right(z,37)\n",
    "\n",
    "tree.append_left(c,84)\n",
    "tree.append_right(c,42)\n",
    "\n",
    "print_tree(tree.root)\n"
   ]
  }
 ],
 "metadata": {
  "interpreter": {
   "hash": "3e04fc3bcdb873a35218e75a9bf9a9cb491b98eecdb407b2b1e7f0c0050f4154"
  },
  "kernelspec": {
   "display_name": "Python 3.8.10 64-bit ('venv': venv)",
   "language": "python",
   "name": "python3"
  },
  "language_info": {
   "codemirror_mode": {
    "name": "ipython",
    "version": 3
   },
   "file_extension": ".py",
   "mimetype": "text/x-python",
   "name": "python",
   "nbconvert_exporter": "python",
   "pygments_lexer": "ipython3",
   "version": "3.8.10"
  },
  "orig_nbformat": 2
 },
 "nbformat": 4,
 "nbformat_minor": 2
}
