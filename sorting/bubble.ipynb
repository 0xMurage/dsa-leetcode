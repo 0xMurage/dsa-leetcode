{
 "metadata": {
  "language_info": {
   "codemirror_mode": {
    "name": "ipython",
    "version": 3
   },
   "file_extension": ".py",
   "mimetype": "text/x-python",
   "name": "python",
   "nbconvert_exporter": "python",
   "pygments_lexer": "ipython3",
   "version": "3.8.10"
  },
  "orig_nbformat": 2,
  "kernelspec": {
   "name": "python3810jvsc74a57bd0e8b146b0d29e47713dec59b4f63f5de9ae53685ca14c7d00a69339700df174d8",
   "display_name": "Python 3.8.10 64-bit ('venv': venv)",
   "language": "python"
  }
 },
 "nbformat": 4,
 "nbformat_minor": 2,
 "cells": [
  {
   "source": [
    "## Challenge\n",
    "Given unsorted list, \n",
    "sort it using selection sort algorithm\n",
    "\n",
    "- Do not create new complex data structure i.e. lists, tuples, or dictionaries\n",
    "\n"
   ],
   "cell_type": "markdown",
   "metadata": {}
  },
  {
   "source": [
    "### notes\n",
    "- At best case, bubble sort algorithm will atleast make one pass through all the values `n` i.e.  `(n-1) x (n-1)`\n",
    "- At worst case, the running time of bubble sort is `n²-2n+1` which can be assummed to be  `n²`\n",
    "- If `n` gets very large, bubble sort is asymptotically equal to selection sorting algorithm"
   ],
   "cell_type": "markdown",
   "metadata": {}
  },
  {
   "source": [
    "## Solution"
   ],
   "cell_type": "markdown",
   "metadata": {}
  },
  {
   "cell_type": "code",
   "execution_count": 15,
   "metadata": {},
   "outputs": [],
   "source": [
    "\"\"\"\n",
    "Untill the list is fully sorted:\n",
    " - For each element on the list upto n-2\n",
    "    if i is greater than i+1\n",
    "        swap the values\n",
    "   if there are no more swaps,\n",
    "        the list is fully sorted\n",
    "\"\"\"\n",
    "\n",
    "\n",
    "def bubbleSort(list):\n",
    "    length = len(list)\n",
    "    allSorted = False\n",
    "    while (not allSorted):\n",
    "        allSorted=True\n",
    "        for i in range(length):\n",
    "            if(i < length-1 and list[i] > list[i+1]):\n",
    "                temp = list[i]\n",
    "                list[i] = list[i+1]\n",
    "                list[i+1] = temp\n",
    "                allSorted = False\n",
    "\n",
    "    return list\n",
    "\n",
    "assert bubbleSort([3,9,1,10,2,2,1]) == [1,1,2,2,3,9,10]\n",
    "assert bubbleSort([10,2,4,5,9,8,3,6]) == [2,3,4,5,6,8,9,10]"
   ]
  }
 ]
}