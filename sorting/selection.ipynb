{
 "metadata": {
  "language_info": {
   "codemirror_mode": {
    "name": "ipython",
    "version": 3
   },
   "file_extension": ".py",
   "mimetype": "text/x-python",
   "name": "python",
   "nbconvert_exporter": "python",
   "pygments_lexer": "ipython3",
   "version": "3.8.10"
  },
  "orig_nbformat": 2,
  "kernelspec": {
   "name": "python3810jvsc74a57bd0e8b146b0d29e47713dec59b4f63f5de9ae53685ca14c7d00a69339700df174d8",
   "display_name": "Python 3.8.10 64-bit ('venv': venv)",
   "language": "python"
  }
 },
 "nbformat": 4,
 "nbformat_minor": 2,
 "cells": [
  {
   "source": [
    "## Challenge\n",
    "Given unsorted list, \n",
    "sort it using selection sort algorithm\n",
    "\n",
    "- Do not create new data structure i.e. lists, tuples, or dictionaries\n",
    "\n"
   ],
   "cell_type": "markdown",
   "metadata": {}
  },
  {
   "source": [
    "### Solution 1"
   ],
   "cell_type": "markdown",
   "metadata": {}
  },
  {
   "cell_type": "code",
   "execution_count": 1,
   "metadata": {},
   "outputs": [],
   "source": [
    "\"\"\"\n",
    "For each element\n",
    "    - Initialize a variable x as index zero. It will keep track of last sorted index value\n",
    "    - Find the smallest number starting from the index of variable x\n",
    "    - Swap the smallest number found with  that in index x\n",
    "    - Increment x  \n",
    "    - If x == len(list)- 1 return, else loop through from step 2 above\n",
    "\n",
    "\n",
    "\"\"\"\n",
    "\n",
    "def selectionSort(list):\n",
    "    sortedIndex = 0\n",
    "    l =len(list)\n",
    "    while(True):\n",
    "        if sortedIndex == l:\n",
    "            return list\n",
    "        \n",
    "        min=list[sortedIndex]\n",
    "        minIndex= sortedIndex\n",
    "        for i in range(sortedIndex,l):\n",
    "            if min> list[i] or min == list[i]:\n",
    "                min = list[i]\n",
    "                minIndex = i\n",
    "\n",
    "        list[minIndex] = list[sortedIndex]\n",
    "        list[sortedIndex] = min\n",
    "        sortedIndex+=1\n",
    "\n",
    "\n",
    "\n",
    "assert selectionSort([3,9,1,10,2,2,1]) == [1,1,2,2,3,9,10]\n",
    "assert selectionSort([10,2,4,5,9,8,3,6]) == [2,3,4,5,6,8,9,10]\n"
   ]
  }
 ]
}