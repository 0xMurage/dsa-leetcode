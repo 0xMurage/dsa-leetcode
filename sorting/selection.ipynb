{
 "metadata": {
  "language_info": {
   "codemirror_mode": {
    "name": "ipython",
    "version": 3
   },
   "file_extension": ".py",
   "mimetype": "text/x-python",
   "name": "python",
   "nbconvert_exporter": "python",
   "pygments_lexer": "ipython3",
   "version": "3.8.10"
  },
  "orig_nbformat": 2,
  "kernelspec": {
   "name": "python3810jvsc74a57bd0e8b146b0d29e47713dec59b4f63f5de9ae53685ca14c7d00a69339700df174d8",
   "display_name": "Python 3.8.10 64-bit ('venv': venv)",
   "language": "python"
  }
 },
 "nbformat": 4,
 "nbformat_minor": 2,
 "cells": [
  {
   "source": [
    "## Challenge\n",
    "Given unsorted list, \n",
    "sort it using selection sort algorithm\n",
    "\n",
    "- Do not create new complex data structure i.e. lists, tuples, or dictionaries\n",
    "\n"
   ],
   "cell_type": "markdown",
   "metadata": {}
  },
  {
   "source": [
    "#### Notes\n",
    "- Selection sort has no way to short cirtuit the process i.e. every element will be checked against `n` to `n-1`\n",
    "- The algorithm has a mathematical representation of `n(n+1)/2` or `n²/2 + n/2` as to sort `n` element, we have to compare `n-1, n-2,n-3....` elements. Thus, the runtime worst case, can be generalized as `O(n²)`\n"
   ],
   "cell_type": "markdown",
   "metadata": {}
  },
  {
   "source": [
    "### Solution 1"
   ],
   "cell_type": "markdown",
   "metadata": {}
  },
  {
   "cell_type": "code",
   "execution_count": 1,
   "metadata": {},
   "outputs": [],
   "source": [
    "\"\"\"\n",
    "For each element\n",
    "    - Initialize a variable x as index zero. It will keep track of last sorted index value\n",
    "    - Find the smallest number starting from the index of variable x\n",
    "    - Swap the smallest number found with  that in index x\n",
    "    - Increment x  \n",
    "    - If x == len(list)- 1 return, else loop through from step 2 above\n",
    "\n",
    "\n",
    "\"\"\"\n",
    "\n",
    "def selectionSort(list):\n",
    "    sortedIndex = 0\n",
    "    l =len(list)\n",
    "    while(True):\n",
    "        if sortedIndex == l:\n",
    "            return list\n",
    "        \n",
    "        min=list[sortedIndex]\n",
    "        minIndex= sortedIndex\n",
    "        for i in range(sortedIndex,l):\n",
    "            if min> list[i] or min == list[i]:\n",
    "                min = list[i]\n",
    "                minIndex = i\n",
    "\n",
    "        list[minIndex] = list[sortedIndex]\n",
    "        list[sortedIndex] = min\n",
    "        sortedIndex+=1\n",
    "\n",
    "\n",
    "\n",
    "assert selectionSort([3,9,1,10,2,2,1]) == [1,1,2,2,3,9,10]\n",
    "assert selectionSort([10,2,4,5,9,8,3,6]) == [2,3,4,5,6,8,9,10]\n"
   ]
  },
  {
   "source": [
    "### Solution 2\n",
    "This similar approach as above but with less variables on stack"
   ],
   "cell_type": "markdown",
   "metadata": {}
  },
  {
   "cell_type": "code",
   "execution_count": 2,
   "metadata": {},
   "outputs": [],
   "source": [
    "\"\"\"\n",
    "Starting from index i:\n",
    " - check any element k that is smaller than n[i]. The loop head will point at n[i]\n",
    " - if found, swap n[i] with k\n",
    " - increment the index i\n",
    " - loop above until at last element\n",
    "\"\"\"\n",
    "\n",
    "def selectionSort2(list):\n",
    "    length=len(list) #get the length first\n",
    "    for index in range(length):\n",
    "        for k in range(index,length): #from n[i] to next smaller item\n",
    "            if(list[k]<list[index]):\n",
    "                 #if value is smaller, swap\n",
    "                temp=list[index]\n",
    "                list[index]=list[k]\n",
    "                list[k]=temp\n",
    "    return list\n",
    "\n",
    "\n",
    "assert selectionSort2([3,9,1,10,2,2,1]) == [1,1,2,2,3,9,10]\n",
    "assert selectionSort2([10,2,4,5,9,8,3,6]) == [2,3,4,5,6,8,9,10]"
   ]
  },
  {
   "cell_type": "code",
   "execution_count": null,
   "metadata": {},
   "outputs": [],
   "source": []
  }
 ]
}