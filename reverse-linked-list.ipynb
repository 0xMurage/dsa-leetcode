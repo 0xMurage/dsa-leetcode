{
 "cells": [
  {
   "cell_type": "code",
   "execution_count": 22,
   "metadata": {
    "tags": []
   },
   "outputs": [
    {
     "name": "stdout",
     "output_type": "stream",
     "text": [
      "Mon -> Tue -> Wen -> Thur -> Fri -> None\n",
      "After reversing the list \n",
      "None <__main__.Node object at 0x7f70420bc670> <__main__.Node object at 0x7f70420bceb0>\n",
      "Fri -> Thur -> Wen -> Tue -> Mon -> None\n"
     ]
    }
   ],
   "source": [
    "\n",
    "class Node:\n",
    "    def __init__(self,value):\n",
    "        self.value=value\n",
    "        self.next=None\n",
    "\n",
    "class LinkedList:\n",
    "    def __init__(self):\n",
    "        self.head = None\n",
    "\n",
    "    def append(self,value):\n",
    "        if self.head is None:\n",
    "            self.head = Node(value)\n",
    "        else:\n",
    "            head = self.head\n",
    "            while head.next is not None:\n",
    "                head = head.next\n",
    "\n",
    "            #append at tail\n",
    "            head.next = Node(value)\n",
    "\n",
    "def print_list(list):   \n",
    "    head = list\n",
    "    while head is not None:\n",
    "        print(head.value,end=' -> ')\n",
    "        head = head.next\n",
    "    print(None)\n",
    "\n",
    "def reverse_list(list):\n",
    "    \"\"\"\n",
    "    Given old_list A->B->C->D->None\n",
    "    Return new_list D->C->B->A->None\n",
    "    \n",
    "    i) Have \n",
    "    - current head\n",
    "    - next node to be processed\n",
    "    - previous node to hold what current was point after moving to next\n",
    "    i)  while current is not null\n",
    "     - next to point to current.next\n",
    "     - previous point to current\n",
    "     - set current to next\n",
    "     - set current next to previous\n",
    "     iii) return the previous\n",
    "    \"\"\"\n",
    "  \n",
    "    head = list\n",
    "    next =None\n",
    "    prev = None\n",
    "    while head is not None:\n",
    "        next = head.next\n",
    "        head.next = prev\n",
    "        prev = head\n",
    "        head = next\n",
    "    return prev\n",
    "\n",
    "\n",
    "list = LinkedList()\n",
    "list.append('Mon')\n",
    "list.append('Tue')\n",
    "list.append('Wen')\n",
    "list.append('Thur')\n",
    "list.append('Fri')\n",
    "\n",
    "print_list(list.head)\n",
    "\n",
    "print('After reversing the list ')\n",
    "\n",
    "print_list(reverse_list(list.head))\n"
   ]
  },
  {
   "cell_type": "code",
   "execution_count": null,
   "metadata": {},
   "outputs": [],
   "source": []
  }
 ],
 "metadata": {
  "interpreter": {
   "hash": "1689b82d5412fa2730f525d7fc479fa1f03a8b16792edff4c42ef5bca5ee2eee"
  },
  "kernelspec": {
   "display_name": "Python 3.8.10 64-bit ('venv': venv)",
   "language": "python",
   "name": "python3"
  },
  "language_info": {
   "codemirror_mode": {
    "name": "ipython",
    "version": 3
   },
   "file_extension": ".py",
   "mimetype": "text/x-python",
   "name": "python",
   "nbconvert_exporter": "python",
   "pygments_lexer": "ipython3",
   "version": "3.8.10"
  },
  "orig_nbformat": 2
 },
 "nbformat": 4,
 "nbformat_minor": 2
}
