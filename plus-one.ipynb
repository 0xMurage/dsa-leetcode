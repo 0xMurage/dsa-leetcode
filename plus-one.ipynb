{
 "cells": [
  {
   "cell_type": "markdown",
   "metadata": {},
   "source": [
    "## 66. Plus One\n",
    "\n",
    "You are given a **large integer** represented as an integer array `digits`, where each `digits[i]` is the `ith` digit of the integer. The digits are ordered from most significant to least significant in left-to-right order. The large integer does not contain any leading `0`'s.\n",
    "\n",
    "Increment the large integer by one and return _the resulting array of digits_.\n",
    "\n",
    " \n",
    "**Constraints**:\n",
    "\n",
    "- `1 <= digits.length <= 100`\n",
    "- `0 <= digits[i] <= 9`\n",
    "- `digits` does not contain any leading `0`'s."
   ]
  },
  {
   "cell_type": "markdown",
   "metadata": {},
   "source": [
    "### Approach 1\n",
    "- convert the digits into whole number X\n",
    "- increment X by one\n",
    "- convert x back into a list:\n",
    "    - Convert into string which is iterable\n",
    "    - Use list comprehension  to convert each digit to int\n",
    "\n",
    "---\n",
    "Time complexity\n",
    " - best O(n^2)\n",
    " - worst O(n^2)"
   ]
  },
  {
   "cell_type": "code",
   "execution_count": 1,
   "metadata": {},
   "outputs": [
    {
     "name": "stdout",
     "output_type": "stream",
     "text": [
      "CPU times: user 3 µs, sys: 1 µs, total: 4 µs\n",
      "Wall time: 5.96 µs\n"
     ]
    }
   ],
   "source": [
    "%time\n",
    "def plusOne(digits):\n",
    "    #get total\n",
    "    total = 0\n",
    "    ## if positive\n",
    "    for digit in digits:\n",
    "        total = (total*10)+digit\n",
    "   \n",
    "    #increment by one\n",
    "    total+=1\n",
    "\n",
    "    #convert back to list\n",
    "    return [int(x) for x in list(str(total))]\n",
    "\n",
    "\n",
    "assert plusOne([1,9,1,9]) == [1,9,2,0]\n",
    "assert plusOne([9]) == [1,0]\n",
    "assert plusOne([9,9]) == [1,0,0]\n",
    "assert plusOne([4,3,2,1]) == [4,3,2,2]\n",
    "assert plusOne([1,2,3]) == [1,2,4]"
   ]
  },
  {
   "cell_type": "markdown",
   "metadata": {},
   "source": [
    "### Approach 2\n",
    "- convert the digits into whole number X\n",
    "- increment X by one\n",
    "- set Y as empty list\n",
    "- convert X back into a list:\n",
    "    - while X is greater than zero,\n",
    "        - get last digit by modulus 10\n",
    "        - insert the digit to index 0 of Y\n",
    "        - remove the last digit by division by 10\n",
    "\n",
    "---\n",
    "Time complexity\n",
    " - best O(n^3)\n",
    " - worst O(n^3)\n",
    " because the list `insert` method has O(n) complexity"
   ]
  },
  {
   "cell_type": "code",
   "execution_count": 2,
   "metadata": {},
   "outputs": [
    {
     "name": "stdout",
     "output_type": "stream",
     "text": [
      "CPU times: user 22 µs, sys: 3 µs, total: 25 µs\n",
      "Wall time: 29.1 µs\n"
     ]
    }
   ],
   "source": [
    "%%time\n",
    "def plusOne(digits):\n",
    "    #get total\n",
    "    total = 0\n",
    "    for digit in digits:\n",
    "        total = (total*10)+digit\n",
    "\n",
    "\n",
    "    #increment by one\n",
    "    total+=1\n",
    "\n",
    "    result=[]\n",
    "    #convert back to list\n",
    "    while(total>0):\n",
    "        result.insert(0, total%10) #insert it at index 0\n",
    "\n",
    "        #remove the digit from total\n",
    "        total //=10\n",
    "    return result\n",
    "\n",
    "\n",
    "assert plusOne([1,9,1,9]) == [1,9,2,0]\n",
    "assert plusOne([9]) == [1,0]\n",
    "assert plusOne([9,9]) == [1,0,0]\n",
    "assert plusOne([4,3,2,1]) == [4,3,2,2]\n",
    "assert plusOne([1,2,3]) == [1,2,4]"
   ]
  }
 ],
 "metadata": {
  "interpreter": {
   "hash": "1689b82d5412fa2730f525d7fc479fa1f03a8b16792edff4c42ef5bca5ee2eee"
  },
  "kernelspec": {
   "display_name": "Python 3.8.10 64-bit ('venv': venv)",
   "language": "python",
   "name": "python3"
  },
  "language_info": {
   "codemirror_mode": {
    "name": "ipython",
    "version": 3
   },
   "file_extension": ".py",
   "mimetype": "text/x-python",
   "name": "python",
   "nbconvert_exporter": "python",
   "pygments_lexer": "ipython3",
   "version": "3.8.10"
  },
  "orig_nbformat": 4
 },
 "nbformat": 4,
 "nbformat_minor": 2
}
