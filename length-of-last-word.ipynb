{
 "cells": [
  {
   "cell_type": "markdown",
   "metadata": {},
   "source": [
    "## 58. Length of Last Word\n",
    "\n",
    "Given a string `s` consisting of some words separated by some number of spaces, _return the length of the **last** word in the string_.\n",
    "\n",
    "A **word** is a maximal substring consisting of non-space characters only.\n",
    "\n",
    "\n",
    "\n",
    "**Constraints**:\n",
    "- `1 <= s.length <= 104`\n",
    "- `s` consists of only English letters and spaces `' '`.\n",
    "- There will be at least one word in `s`."
   ]
  },
  {
   "cell_type": "markdown",
   "metadata": {},
   "source": [
    "### Approach 1\n",
    "- Replace all empty spaces at end of the word with nothing (with regex)\n",
    "- Start iterating from end of string while counting until we reach whitespace"
   ]
  },
  {
   "cell_type": "code",
   "execution_count": 1,
   "metadata": {},
   "outputs": [],
   "source": [
    "import re\n",
    "def lengthOfLastWord(s):\n",
    "    #replace all spaces at end of word with nothing\n",
    "    s=re.sub(r\"(\\s+$)\",\"\",s)\n",
    "\n",
    "    total=0 #total length of last word\n",
    "\n",
    "    for i in range(len(s)):\n",
    "        # if next element is space, stop and return\n",
    "        if s[-(i+1)].isspace():\n",
    "            return total\n",
    "        total+=1\n",
    "    return total\n",
    "\n",
    "\n",
    "    \n",
    "assert lengthOfLastWord(\"luffy is still joyboy\") == 6\n",
    "assert lengthOfLastWord(\"  fly me   to   the moon                                                      \") == 4\n",
    "assert lengthOfLastWord(\"o World\") == 5\n",
    "assert lengthOfLastWord(\"o World\"+\"  \"*1000) == 5"
   ]
  }
 ],
 "metadata": {
  "interpreter": {
   "hash": "1689b82d5412fa2730f525d7fc479fa1f03a8b16792edff4c42ef5bca5ee2eee"
  },
  "kernelspec": {
   "display_name": "Python 3.8.10 64-bit ('venv': venv)",
   "language": "python",
   "name": "python3"
  },
  "language_info": {
   "codemirror_mode": {
    "name": "ipython",
    "version": 3
   },
   "file_extension": ".py",
   "mimetype": "text/x-python",
   "name": "python",
   "nbconvert_exporter": "python",
   "pygments_lexer": "ipython3",
   "version": "3.8.10"
  },
  "orig_nbformat": 4
 },
 "nbformat": 4,
 "nbformat_minor": 2
}
