{
 "cells": [
  {
   "cell_type": "markdown",
   "metadata": {},
   "source": [
    "## 27. Remove Element\n",
    "\n",
    "Given an integer array `nums` and an integer `val`, remove all occurrences of `val` in `nums` **in-place**. The relative order of the elements may be changed.\n",
    "\n",
    "Since it is impossible to change the length of the array in some languages, you must instead have the result be placed in the first part of the array nums. More formally, if there are `k` elements after removing the duplicates, then the first `k` elements of nums should hold the final result. It does not matter what you leave beyond the first `k` elements.\n",
    "\n",
    "Return `k` after placing the final result in the first `k` slots of `nums`.\n",
    "\n",
    "Do **not** allocate extra space for another array. You must do this by **modifying the input array in-place** with O(1) extra memory.\n",
    "\n",
    "\n",
    "Custom Judge:\n",
    "\n",
    "The judge will test your solution with the following code:\n",
    "```javascript\n",
    "    int[] nums = [...]; // Input array\n",
    "    int val = ...; // Value to remove\n",
    "    int[] expectedNums = [...]; // The expected answer with correct length.\n",
    "                                // It is sorted with no values equaling val.\n",
    "\n",
    "    int k = removeElement(nums, val); // Calls your implementation\n",
    "\n",
    "    assert k == expectedNums.length;\n",
    "    sort(nums, 0, k); // Sort the first k elements of nums\n",
    "    for (int i = 0; i < actualLength; i++) {\n",
    "        assert nums[i] == expectedNums[i];\n",
    "    }\n",
    "```\n",
    "If all assertions pass, then your solution will be accepted.\n",
    "\n",
    "\n",
    "\n",
    "Constraints:\n",
    "\n",
    "- `0 <= nums.length <= 100`\n",
    "- `0 <= nums[i] <= 50`\n",
    "- `0 <= val <= 100`"
   ]
  },
  {
   "cell_type": "markdown",
   "metadata": {},
   "source": [
    "## Approach 1\n",
    "- If the length of nums zero, return zero\n",
    "- Set k=0 to hold the total of replaced elems\n",
    "- Set last unique index as zero\n",
    "- For each element:\n",
    "    - if current num is not equal to **val**:\n",
    "        - increment k\n",
    "        - if last unique index **value** is not equal to current element:\n",
    "          - move the current value to last unique index\n",
    "        - increment last unique index\n",
    "- return k\n",
    "\n",
    "\n",
    "\n",
    "----\n",
    "\n",
    "Time complexity:\n",
    "  - best O(1)\n",
    "  - worst O(n)\n",
    "\n",
    "----"
   ]
  },
  {
   "cell_type": "code",
   "execution_count": 46,
   "metadata": {},
   "outputs": [],
   "source": [
    "def judge(nums,expected,k):\n",
    "    assert k == len(expected)\n",
    "    nums =nums[:k]\n",
    "    nums.sort()\n",
    "    for i in range(k):\n",
    "        assert nums[i] == expected[i]"
   ]
  },
  {
   "cell_type": "code",
   "execution_count": 47,
   "metadata": {},
   "outputs": [],
   "source": [
    "def removeElement( nums, val):\n",
    "    if len(nums)==0:\n",
    "        return 0\n",
    "    k = 0\n",
    "    lui=0\n",
    "    for num in nums:\n",
    "        if num != val:\n",
    "            k+=1\n",
    "            if nums[lui]!=num:     \n",
    "                #move current value to last unique index +1\n",
    "                nums[lui]=num\n",
    "            lui+=1\n",
    "\n",
    "    return k\n",
    "\n",
    "\n",
    "x1 = [0,1,2,2,3,0,4,2]\n",
    "x2 =[1,1,3]\n",
    "x3 = [3,2,2,3]\n",
    "\n",
    "judge([],[],removeElement([],3))\n",
    "judge(x1,[0,0,1,3,4],removeElement(x1,2))\n",
    "judge(x2,[1,1],removeElement(x2,3))\n",
    "judge(x3,[2,2],removeElement(x3,3))\n"
   ]
  }
 ],
 "metadata": {
  "interpreter": {
   "hash": "1689b82d5412fa2730f525d7fc479fa1f03a8b16792edff4c42ef5bca5ee2eee"
  },
  "kernelspec": {
   "display_name": "Python 3.8.10 64-bit ('venv': venv)",
   "language": "python",
   "name": "python3"
  },
  "language_info": {
   "codemirror_mode": {
    "name": "ipython",
    "version": 3
   },
   "file_extension": ".py",
   "mimetype": "text/x-python",
   "name": "python",
   "nbconvert_exporter": "python",
   "pygments_lexer": "ipython3",
   "version": "3.8.10"
  },
  "orig_nbformat": 4
 },
 "nbformat": 4,
 "nbformat_minor": 2
}
