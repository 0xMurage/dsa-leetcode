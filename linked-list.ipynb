{
 "metadata": {
  "language_info": {
   "codemirror_mode": {
    "name": "ipython",
    "version": 3
   },
   "file_extension": ".py",
   "mimetype": "text/x-python",
   "name": "python",
   "nbconvert_exporter": "python",
   "pygments_lexer": "ipython3",
   "version": "3.8.10"
  },
  "orig_nbformat": 2,
  "kernelspec": {
   "name": "python3810jvsc74a57bd02d4e5cd2d59d7a8c5ca050f2b8035d16ab94fc756635c9cbee105823832b808d",
   "display_name": "Python 3.8.10 64-bit ('venv')"
  },
  "metadata": {
   "interpreter": {
    "hash": "2d4e5cd2d59d7a8c5ca050f2b8035d16ab94fc756635c9cbee105823832b808d"
   }
  }
 },
 "nbformat": 4,
 "nbformat_minor": 2,
 "cells": [
  {
   "source": [],
   "cell_type": "markdown",
   "metadata": {}
  },
  {
   "cell_type": "code",
   "execution_count": 1,
   "metadata": {},
   "outputs": [
    {
     "output_type": "stream",
     "name": "stdout",
     "text": [
      "90 --> 100 --> 400 --> 294 --> 4495 --> 10 --> 85"
     ]
    }
   ],
   "source": [
    "class Node:\n",
    "    def __init__(self,value):\n",
    "        self.next = None\n",
    "        self.value = value\n",
    "\n",
    "class LinkedList:\n",
    "    def __init__(self,root):\n",
    "        self.root = Node(root)\n",
    "\n",
    "    def append(self,value):\n",
    "        \"\"\"\n",
    "        Insert at the tail of the linked list\n",
    "        \"\"\"\n",
    "        head = self.root\n",
    "        while head.next is not None:\n",
    "            head = head.next       \n",
    "        head.next = Node(value)\n",
    "\n",
    "    def prepend(self,value):  \n",
    "        \"\"\"\n",
    "        Insert at the root i.e. before first Node\n",
    "        \"\"\"\n",
    "        new_node = Node(value)\n",
    "        new_node.next = self.root\n",
    "        self.root = new_node\n",
    "\n",
    "    def insert_after(self,after,value):\n",
    "        \"\"\"\n",
    "        Insert after a value if found\n",
    "        \"\"\"\n",
    "        head = self.root\n",
    "\n",
    "        while head is not None and head.value != after:\n",
    "            head = head.next\n",
    "\n",
    "\n",
    "        if head is None:\n",
    "            print('Could not insert after %s. Value not found'%after)\n",
    "        else:\n",
    "            temp_node = Node(value)\n",
    "            # link next to the other head next\n",
    "            temp_node.next = head.next\n",
    "            # replace \n",
    "            head.next = temp_node\n",
    "\n",
    "    def print(self):\n",
    "        \"\"\"\n",
    "        \n",
    "        \"\"\"\n",
    "        head = self.root\n",
    "        while head is not None:\n",
    "            print(head.value,end='')\n",
    "            head = head.next\n",
    "            if head is not None:\n",
    "                print(' --> ',end='')\n",
    "  \n",
    "\n",
    "list = LinkedList(100)\n",
    "\n",
    "# Insert 400 at the tail. So linked list becomes 100->400->None\n",
    "list.append(400)\n",
    "\n",
    "list.append(294)\n",
    "\n",
    "# Insert 90 at the head. So linked list becomes 90->100->400->294->None\n",
    "list.prepend(90)\n",
    "\n",
    "list.append(4495)\n",
    "list.append(85)\n",
    "\n",
    "\n",
    "# Insert 10 after 4495. So linked list becomes ...->4495->10->85\n",
    "list.insert_after(4495,10)\n",
    "\n",
    "list.print()\n",
    "\n"
   ]
  }
 ]
}