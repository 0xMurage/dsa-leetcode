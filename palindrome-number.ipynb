{
 "cells": [
  {
   "cell_type": "markdown",
   "metadata": {},
   "source": [
    "Given an integer `x`, return `true` if `x` is palindrome integer.\n",
    "\n",
    "An integer is a palindrome when it reads the same backward as forward.\n",
    "\n",
    "For example, `121` is a palindrome while `123` is not.\n",
    "\n",
    "*Note* Solve it without converting the integer to a string?\n"
   ]
  },
  {
   "cell_type": "code",
   "execution_count": 3,
   "metadata": {},
   "outputs": [
    {
     "name": "stdout",
     "output_type": "stream",
     "text": [
      "- 10 1\n",
      "- 1 10\n",
      "1 10\n",
      "- 2121 2\n",
      "- 212 21\n",
      "- 21 212\n",
      "21 212\n"
     ]
    }
   ],
   "source": [
    "def is_palindrome(num):\n",
    "    \"\"\"\n",
    "    Edges cases to consider:\n",
    "    - Number less than zero is not palindrome\n",
    "    - Numbers between 0 and 9 are palindrome\n",
    "    - Number that ends with zero is not palindrome\n",
    "\n",
    "    - Reversing a number might cause overflow. So compare only the half part.\n",
    "\n",
    "    - Number is not iterable thus to get the reverse, apply decimal arithmetic i.e.\n",
    "    i) To get the last digit, modulus of 10 will return the remainder which equals the digit\n",
    "    ii) To remove the digit from num, divide by 10. {division by integers as floats will introduce a rounding problem}\n",
    "    iii) Repeat i and ii until the num is less or equal to the reverse\n",
    "    \n",
    "    \"\"\"\n",
    "\n",
    "    if num < 0:\n",
    "        return False\n",
    "    if num <10:\n",
    "        return True\n",
    "    if num % 10 == 0: #number ends with zero\n",
    "        return False\n",
    "    #else\n",
    "    reversed = 0\n",
    "    while(reversed != num and num > reversed):\n",
    "        #on each iteration, multiply reversed number by 10 to move it's place value forward \n",
    "        reversed = (reversed*10)\n",
    "        reversed += num%10\n",
    "\n",
    "        #reduce the num by popping last digit\n",
    "        num //= 10\n",
    "        \n",
    "    #if reversed number equals the half or: \n",
    "    # if the digits count were not even, check if getting rid of middle digit works\n",
    "    return num == reversed or reversed//10 == num\n",
    "\n",
    "assert is_palindrome(10) == False\n",
    "assert is_palindrome(-11)  == False\n",
    "assert is_palindrome(101) == True\n",
    "assert is_palindrome(21212) == True"
   ]
  }
 ],
 "metadata": {
  "interpreter": {
   "hash": "1689b82d5412fa2730f525d7fc479fa1f03a8b16792edff4c42ef5bca5ee2eee"
  },
  "kernelspec": {
   "display_name": "Python 3.8.10 64-bit ('venv': venv)",
   "language": "python",
   "name": "python3"
  },
  "language_info": {
   "codemirror_mode": {
    "name": "ipython",
    "version": 3
   },
   "file_extension": ".py",
   "mimetype": "text/x-python",
   "name": "python",
   "nbconvert_exporter": "python",
   "pygments_lexer": "ipython3",
   "version": "3.8.10"
  },
  "orig_nbformat": 4
 },
 "nbformat": 4,
 "nbformat_minor": 2
}
