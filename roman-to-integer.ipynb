{
 "metadata": {
  "language_info": {
   "codemirror_mode": {
    "name": "ipython",
    "version": 3
   },
   "file_extension": ".py",
   "mimetype": "text/x-python",
   "name": "python",
   "nbconvert_exporter": "python",
   "pygments_lexer": "ipython3",
   "version": "3.8.10"
  },
  "orig_nbformat": 2,
  "kernelspec": {
   "name": "python3810jvsc74a57bd0767d51c1340bd893661ea55ea3124f6de3c7a262a8b4abca0554b478b1e2ff90",
   "display_name": "Python 3.8.10 64-bit"
  },
  "metadata": {
   "interpreter": {
    "hash": "767d51c1340bd893661ea55ea3124f6de3c7a262a8b4abca0554b478b1e2ff90"
   }
  }
 },
 "nbformat": 4,
 "nbformat_minor": 2,
 "cells": [
  {
   "source": [
    "Roman numerals are represented by seven different symbols: `I`, `V`, `X`, `L`, `C`, `D` and `M`.\n",
    "```\n",
    "Symbol       Value\n",
    "I             1\n",
    "V             5\n",
    "X             10\n",
    "L             50\n",
    "C             100\n",
    "D             500\n",
    "M             1000\n",
    "```\n",
    "For example, `2` is written as `II` in Roman numeral, just two one's added together. `12` is written as `XII`, which is simply `X + II`. The number `27` is written as `XXVII`, which is `XX + V + II`.\n",
    "\n",
    "Roman numerals are usually written largest to smallest from left to right. However, the numeral for four is not `IIII`. Instead, the number four is written as `IV`. Because the one is before the five we subtract it making four. The same principle applies to the number nine, which is written as `IX`. There are `six` instances where subtraction is used:\n",
    "\n",
    "- `I` can be placed before `V` (5) and `X` (10) to make `4` and `9`. \n",
    "- `X` can be placed before `L` (50) and `C` (100) to make `40` and `90`. \n",
    "- `C` can be placed before `D` (500) and `M` (1000) to make `400` and `900`.\n",
    "\n",
    "Given a roman numeral, convert it to an integer."
   ],
   "cell_type": "markdown",
   "metadata": {}
  },
  {
   "source": [
    "Constraints:\n",
    "\n",
    "- `1 <= s.length <= 15`\n",
    "- `s` contains only the characters ('I', 'V', 'X', 'L', 'C', 'D', 'M').\n",
    "- It is guaranteed that `s` is a valid roman numeral in the range [1, 3999]"
   ],
   "cell_type": "markdown",
   "metadata": {}
  },
  {
   "source": [
    "### My Solution\n",
    "\n",
    "- define the base exchange as dictionary of roman as key and the represented  num as value\n",
    "- loop through each item in the string\n",
    "- if the next item exists on the exemptions, skip it after adding the fixed total\n",
    "- lookup the item value from dictionary\n"
   ],
   "cell_type": "markdown",
   "metadata": {}
  },
  {
   "cell_type": "code",
   "execution_count": 45,
   "metadata": {},
   "outputs": [
    {
     "output_type": "stream",
     "name": "stdout",
     "text": [
      "3\n4\n9\n58\n1994\n"
     ]
    }
   ],
   "source": [
    "\"\"\"\n",
    "rules:\n",
    " - I before V, both will total 4\n",
    " - I before X, both will total 9\n",
    " - X before L, both will total 40\n",
    " - X before C, both will total 90\n",
    " - C before D, both will total 400\n",
    " - C before M, both will total 900\n",
    " \"\"\"\n",
    "  \n",
    "\n",
    "\n",
    "def romainToInt(s):\n",
    "    total=0\n",
    "    skipNext=False\n",
    "    base={\"I\":1,\"V\":5, \"X\":10, \"L\":50, \"C\":100, \"D\":500, \"M\":1000 }\n",
    "    slast =len(s)-1\n",
    "    for i,v in enumerate(s):\n",
    "        if skipNext:\n",
    "            skipNext=False\n",
    "            continue\n",
    "        if(i != slast and v == 'I' and s[i+1] == 'V'):\n",
    "            total+=4\n",
    "            skipNext=True\n",
    "            continue\n",
    "        if( i != slast and v == 'I' and s[i+1] == 'X'):\n",
    "            total+=9\n",
    "            skipNext=True\n",
    "            continue\n",
    "        if( i != slast and v == 'X' and s[i+1] == 'L'):\n",
    "            total+=40\n",
    "            skipNext=True\n",
    "            continue\n",
    "        if( i != slast and v == 'X' and s[i+1] == 'C'):\n",
    "            total+=90\n",
    "            skipNext=True\n",
    "            continue\n",
    "        if( i != slast and v == 'C' and s[i+1] == 'D'):\n",
    "            #add 400 and skip next\n",
    "            total+=400\n",
    "            skipNext=True\n",
    "            continue\n",
    "        \n",
    "        if( i != slast and v == 'C' and s[i+1] == 'M'):\n",
    "            # add 900 and skip next\n",
    "            total+=900\n",
    "            skipNext=True\n",
    "            continue\n",
    "        total+=base[v]\n",
    "    return total\n",
    "\n",
    "\n",
    "\n",
    "\n",
    "#my test cases\n",
    "print(romainToInt('III')) #3\n",
    "print(romainToInt('IV')) #4\n",
    "print(romainToInt('IX')) #9\n",
    "print(romainToInt('LVIII')) #58\n",
    "print(romainToInt('MCMXCIV')) #1994\n"
   ]
  }
 ]
}