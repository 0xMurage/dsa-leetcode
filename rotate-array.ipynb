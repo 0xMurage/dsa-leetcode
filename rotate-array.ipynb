{
 "cells": [
  {
   "cell_type": "markdown",
   "metadata": {},
   "source": [
    "## 189. Rotate Array\n",
    "\n",
    "Given an array, rotate the array to the right by `k` steps, where `k` is non-negative.\n",
    "\n",
    "**Constraints**:\n",
    " - `1 <= nums.length <= 105`\n",
    " - `-231 <= nums[i] <= 231 - 1`\n",
    " - `0 <= k <= 105`\n",
    " - Do not return anything, modify nums in-place instead.\n",
    "\n",
    "\n",
    " *Follow up*:\n",
    "\n",
    "- Try to come up with as many solutions as you can. There are at least three different ways to solve this problem.\n",
    "- Could you do it in-place with `O(1)` extra space?"
   ]
  },
  {
   "cell_type": "markdown",
   "metadata": {},
   "source": [
    "## Approach 1\n",
    "- for `k` steps:\n",
    "    - insert value at end of list to index zero\n",
    "    - remove the last index value\n",
    "\n",
    "---\n",
    "Time complexity\n",
    "- Worst is O(n^2) since `k` <= `nums.length`.\n",
    "- Best is  O(1) since `k` can be zero\n"
   ]
  },
  {
   "cell_type": "code",
   "execution_count": 20,
   "metadata": {},
   "outputs": [],
   "source": [
    "def judge(func,k,nums,expected):\n",
    "    x=nums\n",
    "    func(x,k) \n",
    "    assert x == expected"
   ]
  },
  {
   "cell_type": "code",
   "execution_count": 21,
   "metadata": {},
   "outputs": [],
   "source": [
    "def rotate(nums, k: int) -> None:\n",
    "    for i in range(k):\n",
    "        nums.insert(0,nums[-1])\n",
    "        nums.pop()\n",
    "\n",
    "\n",
    "judge(rotate,3,[1,2,3,4,5,6,7],[5,6,7,1,2,3,4])\n",
    "judge(rotate,2,[-1,-100,3,99], [3,99,-1,-100])\n"
   ]
  },
  {
   "cell_type": "markdown",
   "metadata": {},
   "source": [
    "## Approach 2\n",
    "- for steps in k:\n",
    "    - set `temp` as the last value in the index\n",
    "    - for each elem in the list:\n",
    "        - move it one step to the right\n",
    "\n",
    "\n",
    "---\n",
    "Time complexity\n",
    "- Worst is O(n^2) since `k` <= `nums.length`.\n",
    "- Best is  O(1) since `k` can be zero"
   ]
  },
  {
   "cell_type": "code",
   "execution_count": 22,
   "metadata": {},
   "outputs": [],
   "source": [
    "def rotate(nums, k: int) -> None:\n",
    "    for s in range(k):\n",
    "        t = nums[-1]\n",
    "        l = len(nums)-1\n",
    "        for i in range(l,0,-1):\n",
    "            nums[i] = nums[i-1]\n",
    "        nums[0] = t\n",
    "\n",
    "judge(rotate,3,[1,2,3,4,5,6,7],[5,6,7,1,2,3,4])\n",
    "judge(rotate,2,[-1,-100,3,99], [3,99,-1,-100])\n",
    "judge(rotate,0,[-1,-100,3,99], [-1,-100,3,99])\n"
   ]
  }
 ],
 "metadata": {
  "interpreter": {
   "hash": "1689b82d5412fa2730f525d7fc479fa1f03a8b16792edff4c42ef5bca5ee2eee"
  },
  "kernelspec": {
   "display_name": "Python 3.8.10 64-bit ('venv': venv)",
   "language": "python",
   "name": "python3"
  },
  "language_info": {
   "codemirror_mode": {
    "name": "ipython",
    "version": 3
   },
   "file_extension": ".py",
   "mimetype": "text/x-python",
   "name": "python",
   "nbconvert_exporter": "python",
   "pygments_lexer": "ipython3",
   "version": "3.8.10"
  },
  "orig_nbformat": 4
 },
 "nbformat": 4,
 "nbformat_minor": 2
}
