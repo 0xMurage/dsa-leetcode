{
 "metadata": {
  "language_info": {
   "codemirror_mode": {
    "name": "ipython",
    "version": 3
   },
   "file_extension": ".py",
   "mimetype": "text/x-python",
   "name": "python",
   "nbconvert_exporter": "python",
   "pygments_lexer": "ipython3",
   "version": "3.8.10"
  },
  "orig_nbformat": 2,
  "kernelspec": {
   "name": "python3810jvsc74a57bd0767d51c1340bd893661ea55ea3124f6de3c7a262a8b4abca0554b478b1e2ff90",
   "display_name": "Python 3.8.10 64-bit"
  },
  "metadata": {
   "interpreter": {
    "hash": "767d51c1340bd893661ea55ea3124f6de3c7a262a8b4abca0554b478b1e2ff90"
   }
  }
 },
 "nbformat": 4,
 "nbformat_minor": 2,
 "cells": [
  {
   "source": [
    "Given an array of integers `nums` and an integer `target`, return _indices of the two numbers such that they add up to target_.\n",
    "\n",
    "You may assume that each input would have _exactly one solution_, and you may not use the _same_ element twice.\n",
    "\n",
    "You can return the answer in any order.\n",
    "\n"
   ],
   "cell_type": "markdown",
   "metadata": {}
  },
  {
   "source": [
    "### More time efficient approach: _using dictionary_"
   ],
   "cell_type": "markdown",
   "metadata": {}
  },
  {
   "cell_type": "code",
   "execution_count": 40,
   "metadata": {},
   "outputs": [],
   "source": [
    "from typing import List\n",
    "def twoSum(nums:List[int],target:int)->List[int]:\n",
    "    ls={}\n",
    "    for i,v in enumerate(nums):\n",
    "        rem=target-v \n",
    "        if (rem in ls): #check if value at current index + x ==target\n",
    "            return [i,ls[rem]]\n",
    "        ls[v]=i #add it to dictionary"
   ]
  },
  {
   "source": [
    "**Test Cases**"
   ],
   "cell_type": "markdown",
   "metadata": {}
  },
  {
   "cell_type": "code",
   "execution_count": 48,
   "metadata": {},
   "outputs": [],
   "source": [
    "x1=twoSum([2,7,11,15],9)\n",
    "assert x1==[0,1] or x1==[1,0],\"Two sum using dictionary failed for x1\"\n",
    "\n",
    "x2=twoSum([3,2,4],6)\n",
    "assert x2==[1,2] or x2==[2,1],\"Two sum using dictionary failed for x2\"\n",
    "\n",
    "x3=twoSum([0,3,0],0)\n",
    "assert x3==[0,2] or x3==[2,0],\"Two sum using dictionary failed for x3\"\n",
    "\n"
   ]
  },
  {
   "source": [
    "### Lazy approach: _1st trial_"
   ],
   "cell_type": "markdown",
   "metadata": {}
  },
  {
   "cell_type": "code",
   "execution_count": 55,
   "metadata": {},
   "outputs": [
    {
     "output_type": "stream",
     "name": "stdout",
     "text": [
      "CPU times: user 21 µs, sys: 2 µs, total: 23 µs\nWall time: 26 µs\n"
     ]
    }
   ],
   "source": [
    "%%time\n",
    "import random\n",
    "def twoSum(nums: List[int], target: int) -> List[int]:\n",
    "    total=len(nums)\n",
    "    match=False\n",
    "    while(not match):\n",
    "        a=random.randrange(0,total)\n",
    "        y=nums[a]\n",
    "        if y <= target or target < -1:\n",
    "            for i,num in enumerate(nums):\n",
    "                if num+y == target and i != a:\n",
    "                    b=i\n",
    "                    match=True\n",
    "    return [a,b]"
   ]
  },
  {
   "source": [
    "**Test Cases**"
   ],
   "cell_type": "markdown",
   "metadata": {}
  },
  {
   "cell_type": "code",
   "execution_count": 56,
   "metadata": {},
   "outputs": [],
   "source": [
    "x1=twoSum([2,7,11,15],9)\n",
    "assert x1==[0,1] or x1==[1,0],\"Two sum brute force failed for x1\"\n",
    "\n",
    "x2=twoSum([3,2,4],6)\n",
    "assert x2==[1,2] or x2==[2,1],\"Two sum using brute force failed for x2\"\n",
    "\n",
    "x3=twoSum([0,3,0],0)\n",
    "assert x3==[0,2] or x3==[2,0],\"Two sum using brute force failed for x3\"\n",
    "\n"
   ]
  },
  {
   "cell_type": "code",
   "execution_count": null,
   "metadata": {},
   "outputs": [],
   "source": []
  }
 ]
}