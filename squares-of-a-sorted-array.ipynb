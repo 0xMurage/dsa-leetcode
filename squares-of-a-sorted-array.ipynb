{
 "cells": [
  {
   "cell_type": "markdown",
   "metadata": {},
   "source": [
    "## 977. Squares of a Sorted Array\n",
    "\n",
    "Given an integer array `nums` sorted in **non-decreasing order**, return _an array of the **squares of each number sorted** in non-decreasing order_.\n",
    "\n",
    "\n",
    "**Constraints**:\n",
    "- `1 <= nums.length <= 104`\n",
    "- `-104 <= nums[i] <= 104`\n",
    "- `nums` is sorted in non-decreasing order.\n"
   ]
  },
  {
   "cell_type": "markdown",
   "metadata": {},
   "source": [
    "## Approach 1\n",
    "for each element in the list\n",
    " - replace the current element with it's square\n",
    "call sort method of the list\n",
    "return the sorted list\n",
    "\n",
    "---\n",
    "Time complexity:\n",
    "- Worst & best - O(n^2)"
   ]
  },
  {
   "cell_type": "code",
   "execution_count": 1,
   "metadata": {},
   "outputs": [],
   "source": [
    "def sortedSquares(nums):\n",
    "    for i in range(len(nums)):\n",
    "        nums[i] = nums[i]*nums[i]\n",
    "    \n",
    "    nums.sort()\n",
    "    return nums\n",
    "            \n",
    "assert sortedSquares([-7,-3,2,3,11]) == [4,9,9,49,121]\n",
    "assert sortedSquares([-4,-1,0,3,10]) == [0,1,9,16,100]\n",
    "assert sortedSquares([-4,-1,0,3,10]) == [0,1,9,16,100]\n",
    "assert sortedSquares([-4,-1,0,3,10]) == [0,1,9,16,100]\n"
   ]
  }
 ],
 "metadata": {
  "interpreter": {
   "hash": "1689b82d5412fa2730f525d7fc479fa1f03a8b16792edff4c42ef5bca5ee2eee"
  },
  "kernelspec": {
   "display_name": "Python 3.8.10 64-bit ('venv': venv)",
   "language": "python",
   "name": "python3"
  },
  "language_info": {
   "codemirror_mode": {
    "name": "ipython",
    "version": 3
   },
   "file_extension": ".py",
   "mimetype": "text/x-python",
   "name": "python",
   "nbconvert_exporter": "python",
   "pygments_lexer": "ipython3",
   "version": "3.8.10"
  },
  "orig_nbformat": 4
 },
 "nbformat": 4,
 "nbformat_minor": 2
}
