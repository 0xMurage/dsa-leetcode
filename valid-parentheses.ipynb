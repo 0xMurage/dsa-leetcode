{
 "metadata": {
  "language_info": {
   "codemirror_mode": {
    "name": "ipython",
    "version": 3
   },
   "file_extension": ".py",
   "mimetype": "text/x-python",
   "name": "python",
   "nbconvert_exporter": "python",
   "pygments_lexer": "ipython3",
   "version": "3.8.10"
  },
  "orig_nbformat": 2,
  "kernelspec": {
   "name": "python3810jvsc74a57bd0767d51c1340bd893661ea55ea3124f6de3c7a262a8b4abca0554b478b1e2ff90",
   "display_name": "Python 3.8.10 64-bit"
  },
  "metadata": {
   "interpreter": {
    "hash": "767d51c1340bd893661ea55ea3124f6de3c7a262a8b4abca0554b478b1e2ff90"
   }
  }
 },
 "nbformat": 4,
 "nbformat_minor": 2,
 "cells": [
  {
   "source": [
    "Given a string `s` containing just the characters `'(', ')', '{', '}', '[' and ']'`, determine if the input string is valid.\n",
    "\n",
    "An input string is valid if:\n",
    "\n",
    "- Open brackets must be closed by the same type of brackets.\n",
    "- Open brackets must be closed in the correct order."
   ],
   "cell_type": "markdown",
   "metadata": {}
  },
  {
   "cell_type": "code",
   "execution_count": 1,
   "metadata": {},
   "outputs": [],
   "source": [
    "def isValid(str):\n",
    "    '''\n",
    "    - Closing xcters should only be seen after opening xcters\n",
    "    - The xcters order must be respected. What is seen first must be closed first\n",
    "    '''\n",
    "    if len(str) <2:\n",
    "        return False\n",
    "    open_xcters=[]\n",
    "    inverse_xcter={'}':'{',']':'[',')':'('}\n",
    "    for xcter in str:\n",
    "        if xcter=='(' or xcter=='{' or xcter=='[':\n",
    "            open_xcters.append(xcter)\n",
    "        elif(open_xcters):\n",
    "            #check if we have seen an opening xcter at same index\n",
    "            if inverse_xcter[xcter] != open_xcters.pop():\n",
    "                return False\n",
    "        else:\n",
    "            return False\n",
    "    if open_xcters:\n",
    "        return False\n",
    "    return True\n"
   ]
  },
  {
   "cell_type": "code",
   "execution_count": 2,
   "metadata": {},
   "outputs": [],
   "source": [
    "assert isValid(\"(\")==False\n",
    "assert isValid(\")\")==False\n",
    "assert isValid(\"((\")==False\n",
    "assert isValid(\"()\")==True\n",
    "assert isValid('()[]{}') ==True\n",
    "assert isValid('(]') == False\n",
    "assert isValid('([)]') == False\n",
    "assert isValid('{[]}') ==True"
   ]
  }
 ]
}