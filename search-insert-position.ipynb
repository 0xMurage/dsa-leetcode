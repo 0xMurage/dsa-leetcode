{
 "cells": [
  {
   "cell_type": "markdown",
   "metadata": {},
   "source": [
    "# 35. search-insert-position\n",
    "\n",
    "Given a sorted array of distinct integers and a target value, return the index if the target is found.\n",
    "\n",
    "If not, return the index where it would be **if** it were inserted in order.\n",
    "\n",
    "You **must** write an algorithm with `O(log n)` runtime complexity.\n",
    "\n",
    "\n",
    "**Constraints**:\n",
    " - `1 <= nums.length <= 104`\n",
    " - `-104 <= nums[i] <= 104`\n",
    " - `nums` contains distinct values sorted in ascending order.\n",
    " - `-104 <= target <= 104`\n"
   ]
  },
  {
   "cell_type": "markdown",
   "metadata": {},
   "source": [
    "## Approach 1 - using binary search\n",
    "- Set `min` as the starting index\n",
    "- Set `max` as the last list index\n",
    "- while `min` is less than or equal to `max`:\n",
    "    - Set `middle` index as average btwn max and min  i.e`(max + min) //2`\n",
    "    - if value at `middle` equals target, return the `middle` index\n",
    "    - if the val at middle is greater than target, \n",
    "        - set the `max` as equal to `middle-1` i.e. search the left part of the list \n",
    "    - if the val at middle is less than target, \n",
    "        - set the `min` as equal to `middle+1` i.e. search the right part of the list\n",
    "- return `min`"
   ]
  },
  {
   "cell_type": "code",
   "execution_count": 6,
   "metadata": {},
   "outputs": [
    {
     "name": "stdout",
     "output_type": "stream",
     "text": [
      "1\n",
      "4\n",
      "0\n"
     ]
    }
   ],
   "source": [
    "def searchInsert(nums,target):\n",
    "    min = 0 #where to start\n",
    "    max = len(nums)-1 #where it ends\n",
    "    middle = 0 \n",
    "    while(max>=min): \n",
    "        middle = (min+max)//2 \n",
    "        if nums[middle] == target:\n",
    "            return middle\n",
    "        if nums[middle] > target:\n",
    "            #use first half\n",
    "            max = middle-1\n",
    "        else:\n",
    "            #use the second half\n",
    "            min= middle+1\n",
    "\n",
    "    return min\n",
    "                \n",
    "assert searchInsert([1,3,5,6],5)== 2\n",
    "assert searchInsert([1,3,5,6],2)  ==1\n",
    "assert searchInsert([1,3,5,6],7) ==4\n",
    "assert searchInsert([1,3,5,6],0) == 0"
   ]
  }
 ],
 "metadata": {
  "interpreter": {
   "hash": "1689b82d5412fa2730f525d7fc479fa1f03a8b16792edff4c42ef5bca5ee2eee"
  },
  "kernelspec": {
   "display_name": "Python 3.8.10 64-bit ('venv': venv)",
   "language": "python",
   "name": "python3"
  },
  "language_info": {
   "codemirror_mode": {
    "name": "ipython",
    "version": 3
   },
   "file_extension": ".py",
   "mimetype": "text/x-python",
   "name": "python",
   "nbconvert_exporter": "python",
   "pygments_lexer": "ipython3",
   "version": "3.8.10"
  },
  "orig_nbformat": 4
 },
 "nbformat": 4,
 "nbformat_minor": 2
}
