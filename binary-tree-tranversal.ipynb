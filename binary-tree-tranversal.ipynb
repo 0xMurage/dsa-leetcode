{
 "cells": [
  {
   "cell_type": "code",
   "execution_count": 1,
   "metadata": {},
   "outputs": [],
   "source": [
    "class Node:\n",
    "    def __init__(self, value):\n",
    "        self.value = value\n",
    "        self.left = None\n",
    "        self.right = None\n",
    "\n",
    "    def insert(self, value):\n",
    "        \"\"\"\n",
    "        1) If the value is greater than the node value, go to the right (node =right)\n",
    "        2) If the value is less than the node value, go to the left (node =left)\n",
    "        3) Repeat 2 or 3 above until the next node is none.\n",
    "        \"\"\"\n",
    "\n",
    "        # start from root -> branches -> leaves\n",
    "        if self.value < value:\n",
    "            # go to right branch\n",
    "            if self.right is not None:\n",
    "                # if we are at the leaf node, insert\n",
    "                self.right.insert(value)\n",
    "            else:\n",
    "                self.right = Node(value)\n",
    "        elif self.value >= value:\n",
    "            # go to left branch\n",
    "            if self.left is not None:\n",
    "                # if we are at the leaf node, insert\n",
    "                self.left.insert(value)\n",
    "            else:\n",
    "                self.left = Node(value)\n"
   ]
  },
  {
   "cell_type": "code",
   "execution_count": 2,
   "metadata": {},
   "outputs": [],
   "source": [
    "\n",
    "\"\"\"\n",
    "          10\n",
    "       /     \\\n",
    "      5       15\n",
    "     /   \\    / \\  \n",
    "    4    8  13   20\n",
    "\"\"\"\n",
    "tree = Node(10)\n",
    "tree.insert(15)\n",
    "tree.insert(5)\n",
    "tree.insert(8)\n",
    "tree.insert(4)\n",
    "tree.insert(20)\n",
    "tree.insert(13)\n"
   ]
  },
  {
   "cell_type": "markdown",
   "metadata": {},
   "source": [
    "### 1. Inorder Traversal\n",
    "**Visit left then root then right**"
   ]
  },
  {
   "cell_type": "code",
   "execution_count": 3,
   "metadata": {},
   "outputs": [
    {
     "name": "stdout",
     "output_type": "stream",
     "text": [
      "4 5 8 10 13 15 20 "
     ]
    }
   ],
   "source": [
    "def inorder_print(tree):\n",
    "    \"\"\"\n",
    "    - If there is left node, go to the node\n",
    "    - If there is no left node, print\n",
    "    \"\"\"\n",
    "    if tree.left is not None:\n",
    "        inorder_print(tree.left)\n",
    "    print(tree.value,end=' ')\n",
    "    if tree.right is not None:\n",
    "        inorder_print(tree.right)\n",
    "\n",
    "inorder_print(tree)"
   ]
  },
  {
   "cell_type": "markdown",
   "metadata": {},
   "source": [
    "### 2. Preorder Traversal\n",
    "Root then left then right"
   ]
  },
  {
   "cell_type": "code",
   "execution_count": 4,
   "metadata": {},
   "outputs": [
    {
     "name": "stdout",
     "output_type": "stream",
     "text": [
      "10 5 4 8 15 13 20 "
     ]
    }
   ],
   "source": [
    "\n",
    "def preorder_print(tree):\n",
    "    if tree is not None:\n",
    "        print(tree.value, end=' ') #root\n",
    "    if tree.left:\n",
    "        preorder_print(tree.left)\n",
    "    if tree.right:\n",
    "        preorder_print(tree.right)\n",
    "\n",
    "preorder_print(tree)\n"
   ]
  },
  {
   "cell_type": "code",
   "execution_count": 5,
   "metadata": {},
   "outputs": [
    {
     "name": "stdout",
     "output_type": "stream",
     "text": [
      "4 8 5 13 20 15 10 "
     ]
    }
   ],
   "source": [
    "def post_order_print(tree):\n",
    "    \"\"\"\n",
    "    - If there is left node, go to the node\n",
    "    - If there is no left node, print\n",
    "    \"\"\"\n",
    "    if tree.left is not None:\n",
    "        post_order_print(tree.left)\n",
    "    if tree.right is not None:\n",
    "        post_order_print(tree.right)\n",
    "    print(tree.value,end = ' ')\n",
    "\n",
    "\n",
    "post_order_print(tree)"
   ]
  },
  {
   "cell_type": "markdown",
   "metadata": {},
   "source": [
    "#### Extra: Searching "
   ]
  },
  {
   "cell_type": "code",
   "execution_count": 6,
   "metadata": {},
   "outputs": [],
   "source": [
    "def contains(tree,value):\n",
    "    \"\"\"\n",
    "    Check if a tree contains a value\n",
    "    \"\"\"\n",
    "    if tree is  None:\n",
    "        return False\n",
    "    if tree.value == value:\n",
    "        return True\n",
    "    if value > tree.value:\n",
    "        #tranverse to the right\n",
    "        return contains(tree.right, value)\n",
    "    else:\n",
    "        return contains(tree.left,value)\n",
    "\n",
    "assert contains(None,19) == False\n",
    "assert contains(tree,10) == True\n",
    "assert contains(tree,4) == True\n",
    "assert contains(tree,13) == True\n",
    "assert contains(tree,20) == True\n",
    "assert contains(tree,21) == False"
   ]
  }
 ],
 "metadata": {
  "interpreter": {
   "hash": "3e04fc3bcdb873a35218e75a9bf9a9cb491b98eecdb407b2b1e7f0c0050f4154"
  },
  "kernelspec": {
   "display_name": "Python 3.8.10 64-bit ('venv': venv)",
   "language": "python",
   "name": "python3"
  },
  "language_info": {
   "codemirror_mode": {
    "name": "ipython",
    "version": 3
   },
   "file_extension": ".py",
   "mimetype": "text/x-python",
   "name": "python",
   "nbconvert_exporter": "python",
   "pygments_lexer": "ipython3",
   "version": "3.8.10"
  },
  "orig_nbformat": 2
 },
 "nbformat": 4,
 "nbformat_minor": 2
}
