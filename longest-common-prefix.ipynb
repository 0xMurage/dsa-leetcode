{
 "metadata": {
  "language_info": {
   "codemirror_mode": {
    "name": "ipython",
    "version": 3
   },
   "file_extension": ".py",
   "mimetype": "text/x-python",
   "name": "python",
   "nbconvert_exporter": "python",
   "pygments_lexer": "ipython3",
   "version": "3.8.10"
  },
  "orig_nbformat": 2,
  "kernelspec": {
   "name": "python3810jvsc74a57bd0767d51c1340bd893661ea55ea3124f6de3c7a262a8b4abca0554b478b1e2ff90",
   "display_name": "Python 3.8.10 64-bit"
  },
  "metadata": {
   "interpreter": {
    "hash": "767d51c1340bd893661ea55ea3124f6de3c7a262a8b4abca0554b478b1e2ff90"
   }
  }
 },
 "nbformat": 4,
 "nbformat_minor": 2,
 "cells": [
  {
   "source": [
    "Write a function to find the longest common prefix string amongst an array of strings.\n",
    "\n",
    "If there is no common prefix, return an empty string \"\".\n",
    "\n",
    "**Constraints**:\n",
    "\n",
    "- `1` <= `strs.length` <= `200`\n",
    "- `0` <= `strs[i].length` <= `200`\n",
    "- `strs[i]` consists of only lower-case English letters.\n"
   ],
   "cell_type": "markdown",
   "metadata": {}
  },
  {
   "source": [
    "#### My Solution\n",
    "performance: average"
   ],
   "cell_type": "markdown",
   "metadata": {}
  },
  {
   "cell_type": "code",
   "execution_count": 99,
   "metadata": {},
   "outputs": [
    {
     "output_type": "stream",
     "name": "stdout",
     "text": [
      "== \nfl\nCPU times: user 954 µs, sys: 61 µs, total: 1.02 ms\nWall time: 652 µs\n"
     ]
    }
   ],
   "source": [
    "%%time\n",
    "\n",
    "def longestCommonPrefix(strs):\n",
    "    match=''\n",
    "    try:\n",
    "    \n",
    "        index=0\n",
    "        while(True):\n",
    "            current=strs[0][index]\n",
    "            for val in strs:\n",
    "                if(val[index]!=current):\n",
    "                    return match\n",
    "            match+=current    \n",
    "            index+=1\n",
    "    except:\n",
    "        return match\n",
    "print('==',longestCommonPrefix([\"dog\",\"racecar\",\"car\"]))\n",
    "print(longestCommonPrefix([\"flower\",\"flow\",\"flight\"]))"
   ]
  }
 ]
}