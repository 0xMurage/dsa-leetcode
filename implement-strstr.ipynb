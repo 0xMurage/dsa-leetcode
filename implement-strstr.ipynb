{
 "cells": [
  {
   "cell_type": "markdown",
   "metadata": {},
   "source": [
    "## 28. Implement strStr()\n",
    "\n",
    "Implement `strStr()`.\n",
    "\n",
    "Return the `index` of the first occurrence of needle in haystack, or `-1` if needle is not part of `haystack`.\n",
    "\n",
    "**Clarification**:\n",
    "\n",
    "What should we return when `needle` is an empty string? This is a great question to ask during an interview.\n",
    "\n",
    "For the purpose of this problem, we will return `0` when `needle` is an empty string. This is consistent to C's `strstr()` and Java's `indexOf()`.\n",
    "\n",
    "\n",
    "**Constraints**:\n",
    "\n",
    "- `0 <= haystack.length, needle.length <= 5 * 104`\n",
    "- `haystack` and `needle` consist of only lower-case English characters."
   ]
  },
  {
   "cell_type": "markdown",
   "metadata": {},
   "source": [
    "## Approach 1\n",
    "- set l as length of the needle\n",
    "- if needle or haystack length is zero, return zero\n",
    "- set index as zero\n",
    "- for character in haystack\n",
    "    - if the first needle xcter equals current index:\n",
    "        - if [index:index+l] == needle, return the current index\n",
    "\n",
    "        \n",
    "- return the index\n",
    "\n",
    "---\n",
    "Time complexity:\n",
    "    - best = O(1)\n",
    "    - worst = O(n)\n",
    "---"
   ]
  },
  {
   "cell_type": "code",
   "execution_count": 39,
   "metadata": {},
   "outputs": [
    {
     "name": "stdout",
     "output_type": "stream",
     "text": [
      "CPU times: user 2 µs, sys: 0 ns, total: 2 µs\n",
      "Wall time: 4.77 µs\n"
     ]
    }
   ],
   "source": [
    "%time\n",
    "def  strStr(haystack: str, needle):\n",
    "    l = len(needle)\n",
    "    \n",
    "    if l == 0:\n",
    "        return 0\n",
    "    \n",
    "    index=0\n",
    "\n",
    "    for x in haystack:\n",
    "        if needle[0] == x and haystack[index:index+l] == needle:\n",
    "            return index\n",
    "        index+=1\n",
    "    return -1\n",
    "\n",
    "\n",
    "assert strStr(haystack = \"hello\", needle = \"ll\") == 2\n",
    "assert strStr(haystack = \"aaaaa\", needle = \"bba\") == -1\n",
    "assert strStr(haystack = \"\", needle = \"\") == 0\n",
    "assert strStr(haystack = \"hedn\", needle = \"\") == 0"
   ]
  }
 ],
 "metadata": {
  "interpreter": {
   "hash": "1689b82d5412fa2730f525d7fc479fa1f03a8b16792edff4c42ef5bca5ee2eee"
  },
  "kernelspec": {
   "display_name": "Python 3.8.10 64-bit ('venv': venv)",
   "language": "python",
   "name": "python3"
  },
  "language_info": {
   "codemirror_mode": {
    "name": "ipython",
    "version": 3
   },
   "file_extension": ".py",
   "mimetype": "text/x-python",
   "name": "python",
   "nbconvert_exporter": "python",
   "pygments_lexer": "ipython3",
   "version": "3.8.10"
  },
  "orig_nbformat": 4
 },
 "nbformat": 4,
 "nbformat_minor": 2
}
